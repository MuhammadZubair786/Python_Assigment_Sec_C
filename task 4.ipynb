{
 "cells": [
  {
   "cell_type": "code",
   "execution_count": 3,
   "metadata": {},
   "outputs": [
    {
     "name": "stdout",
     "output_type": "stream",
     "text": [
      "Enter Table To Show :2\n",
      "\tTable of  2\n",
      "\t 2 * 1 = 2\n",
      "\t 2 * 2 = 4\n",
      "\t 2 * 3 = 6\n",
      "\t 2 * 4 = 8\n",
      "\t 2 * 5 = 10\n",
      "\t 2 * 6 = 12\n",
      "\t 2 * 7 = 14\n",
      "\t 2 * 8 = 16\n",
      "\t 2 * 9 = 18\n",
      "\t 2 * 10 = 20\n"
     ]
    }
   ],
   "source": [
    "tab=int(input(\"Enter Table To Show :\"))\n",
    "print(\"\\tTable of \",tab)\n",
    "for i in range(1,11):\n",
    "    print(\"\\t\",end=\" \")\n",
    "    print(tab,\"*\",i,\"=\",tab*i)\n"
   ]
  },
  {
   "cell_type": "code",
   "execution_count": 11,
   "metadata": {},
   "outputs": [
    {
     "name": "stdout",
     "output_type": "stream",
     "text": [
      "Enter Table To start  :2\n",
      "Enter Table To End :5\n",
      "\tTable of  2\n",
      "\t 2 * 1 = 2\n",
      "\t 2 * 2 = 4\n",
      "\t 2 * 3 = 6\n",
      "\t 2 * 4 = 8\n",
      "\t 2 * 5 = 10\n",
      "\t 2 * 6 = 12\n",
      "\t 2 * 7 = 14\n",
      "\t 2 * 8 = 16\n",
      "\t 2 * 9 = 18\n",
      "\t 2 * 10 = 20\n",
      "\n",
      "\n",
      "\tTable of  3\n",
      "\t 3 * 1 = 3\n",
      "\t 3 * 2 = 6\n",
      "\t 3 * 3 = 9\n",
      "\t 3 * 4 = 12\n",
      "\t 3 * 5 = 15\n",
      "\t 3 * 6 = 18\n",
      "\t 3 * 7 = 21\n",
      "\t 3 * 8 = 24\n",
      "\t 3 * 9 = 27\n",
      "\t 3 * 10 = 30\n",
      "\n",
      "\n",
      "\tTable of  4\n",
      "\t 4 * 1 = 4\n",
      "\t 4 * 2 = 8\n",
      "\t 4 * 3 = 12\n",
      "\t 4 * 4 = 16\n",
      "\t 4 * 5 = 20\n",
      "\t 4 * 6 = 24\n",
      "\t 4 * 7 = 28\n",
      "\t 4 * 8 = 32\n",
      "\t 4 * 9 = 36\n",
      "\t 4 * 10 = 40\n",
      "\n",
      "\n",
      "\tTable of  5\n",
      "\t 5 * 1 = 5\n",
      "\t 5 * 2 = 10\n",
      "\t 5 * 3 = 15\n",
      "\t 5 * 4 = 20\n",
      "\t 5 * 5 = 25\n",
      "\t 5 * 6 = 30\n",
      "\t 5 * 7 = 35\n",
      "\t 5 * 8 = 40\n",
      "\t 5 * 9 = 45\n",
      "\t 5 * 10 = 50\n",
      "\n",
      "\n"
     ]
    }
   ],
   "source": [
    "tab1=int(input(\"Enter Table To start  :\"))\n",
    "tab2=int(input(\"Enter Table To End :\"))\n",
    "\n",
    "for j in range(tab1,tab2+1):\n",
    "    print(\"\\tTable of \",j)\n",
    "    for i in range(1,11):\n",
    "        print(\"\\t\",end=\" \")\n",
    "        print(j,\"*\",i,\"=\",j*i)\n",
    "    print(\"\\n\")"
   ]
  },
  {
   "cell_type": "code",
   "execution_count": null,
   "metadata": {},
   "outputs": [],
   "source": []
  },
  {
   "cell_type": "code",
   "execution_count": null,
   "metadata": {},
   "outputs": [],
   "source": []
  }
 ],
 "metadata": {
  "kernelspec": {
   "display_name": "Python 3",
   "language": "python",
   "name": "python3"
  },
  "language_info": {
   "codemirror_mode": {
    "name": "ipython",
    "version": 3
   },
   "file_extension": ".py",
   "mimetype": "text/x-python",
   "name": "python",
   "nbconvert_exporter": "python",
   "pygments_lexer": "ipython3",
   "version": "3.7.4"
  }
 },
 "nbformat": 4,
 "nbformat_minor": 2
}
