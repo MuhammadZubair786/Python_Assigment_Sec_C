{
 "cells": [
  {
   "cell_type": "code",
   "execution_count": 1,
   "metadata": {},
   "outputs": [
    {
     "name": "stdout",
     "output_type": "stream",
     "text": [
      "\t\t\tSAYLANI ONLINE ACADEMY SECTION-A Batch-2\n",
      "1) Output:\n",
      "Saylani Mass IT Training\n",
      "\tSaylani Mass IT Training\n",
      "Saylani Mass IT Training\n",
      "\tSaylani Mass IT Training\n",
      "Saylani Mass IT Training\n",
      "\tSaylani Mass IT Training\n",
      "Saylani Mass IT Training\n",
      "\tSaylani Mass IT Training\n",
      "Saylani Mass IT Training\n",
      "\tSaylani Mass IT Training\n",
      "Saylani Mass IT Training\n",
      "\tSaylani Mass IT Training\n",
      "\n",
      "\n",
      "2) Output:\n",
      "Saylani Mass IT Training \tSaylani Mass IT Training\n",
      "Saylani Mass IT Training \tSaylani Mass IT Training\n",
      "Saylani Mass IT Training \tSaylani Mass IT Training\n",
      "Saylani Mass IT Training \tSaylani Mass IT Training\n",
      "Saylani Mass IT Training \tSaylani Mass IT Training\n",
      "Saylani Mass IT Training \tSaylani Mass IT Training\n" ,
      "\n",
      "\n",
      "3) Output:\n",
      "\tSaylani Mass IT Training\n",
      "Saylani Mass IT Training \tSaylani Mass IT Training\n",
      "\tSaylani Mass IT Training\n",
      "Saylani Mass IT Training \tSaylani Mass IT Training\n",
      "\tSaylani Mass IT Training\n",
      "Saylani Mass IT Training \tSaylani Mass IT Training\n",
      "\tSaylani Mass IT Training\n",
      "Saylani Mass IT Training \tSaylani Mass IT Training\n",
      "\tSaylani Mass IT Training\n",
      "Saylani Mass IT Training \tSaylani Mass IT Training\n",
      "\tSaylani Mass IT Training\n",
      "Saylani Mass IT Training \tSaylani Mass IT Training\n",
      "\n",
      "\n",
      "4) Output:\n",
      "Saylani Mass IT Training \n",
      "     Saylani Mass IT Training \n",
      "          Saylani Mass IT Training \n",
      "               Saylani Mass IT Training \n",
      "               Saylani Mass IT Training abc \n",
      "            Saylani Mass IT Training abc \n",
      "         Saylani Mass IT Training abc \n",
      "      Saylani Mass IT Training abc \n",
      "   Saylani Mass IT Training abc \n"
     ]
    }
   ],
   "source": [
    "print(\"\\t\\t\\tSAYLANI ONLINE ACADEMY SECTION-A Batch-2\")\n",
    "\n",
   #output No 1

print("1) Output:")
print("Saylani Mass IT Training")
print("\tSaylani Mass IT Training")
print("Saylani Mass IT Training")
print("\tSaylani Mass IT Training")
print("Saylani Mass IT Training")
print("\tSaylani Mass IT Training")
print("Saylani Mass IT Training")
print("\tSaylani Mass IT Training")
print("\tSaylani Mass IT Training")
print("Saylani Mass IT Training")
print("\tSaylani Mass IT Training")
print('\n')

#output No 2

print("2) Output:")
print("Saylani Mass IT Training \tSaylani Mass IT Training")
print("Saylani Mass IT Training \tSaylani Mass IT Training")
print("Saylani Mass IT Training \tSaylani Mass IT Training")
print("Saylani Mass IT Training \tSaylani Mass IT Training")
print('\n')

#output No 3    

print("3) Output:")
print("\tSaylani Mass IT Training")
print("Saylani Mass IT Training \tSaylani Mass IT Training")
print("\tSaylani Mass IT Training")
print("Saylani Mass IT Training \tSaylani Mass IT Training")
print("\tSaylani Mass IT Training")
print("Saylani Mass IT Training \tSaylani Mass IT Training")
print("\tSaylani Mass IT Training")
print("Saylani Mass IT Training \tSaylani Mass IT Training")
print("\tSaylani Mass IT Training")
print("Saylani Mass IT Training \tSaylani Mass IT Training")
print('\n')

#output No 4

print("4) Output:")
print("Saylani Mass IT Training")
print("\tSaylani Mass IT Training")
print("\t\tSaylani Mass IT Training")
print("\t\t\tSaylani Mass IT Training")
print("\t\tSaylani Mass IT Training")
print("\t\tSaylani Mass IT Training")
print("\tSaylani Mass IT Training")
print("Saylani Mass IT Training")
print('\n')


   ]
  },
  {
   "cell_type": "code",
   "execution_count": null,
   "metadata": {},
   "outputs": [],
   "source": []
  }
 ],
 "metadata": {
  "kernelspec": {
   "display_name": "Python 3",
   "language": "python",
   "name": "python3"
  },
  "language_info": {
   "codemirror_mode": {
    "name": "ipython",
    "version": 3
   },
   "file_extension": ".py",
   "mimetype": "text/x-python",
   "name": "python",
   "nbconvert_exporter": "python",
   "pygments_lexer": "ipython3",
   "version": "3.7.4"
  }
 },
 "nbformat": 4,
 "nbformat_minor": 2
}
