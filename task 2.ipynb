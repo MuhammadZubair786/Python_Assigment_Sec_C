{
 "cells": [
  {
   "cell_type": "code",
   "execution_count": 2,
   "metadata": {},
   "outputs": [
    {
     "name": "stdout",
     "output_type": "stream",
     "text": [
      "Enter Student Name :Zubair Minhas\n",
      "Enter Student Roll No :40\n",
      "Enter Student Class :10\n",
      "Enter Math Subject Marks :58\n",
      "Enter English Subject Marks :98\n",
      "Enter Python Subject Marks :67\n",
      "Enter Java Subject Marks :56\n",
      "Enter Computer Subject Marks :78\n",
      "**********************************************Marksheet O Student*************************************\n",
      " Student Name : Zubair Minhas\n",
      " Student Roll No : 40\n",
      "Class : 10\n",
      "Math Marks : 58\n",
      "English Marks : 98\n",
      "Python Marks : 67\n",
      "Java Marks : 56\n",
      "Computer Marks : 78\n",
      "Obtained Marks : 357\n",
      "Total Marks : 500\n",
      "Percentage : 71.39999999999999\n",
      "Grade :A\n"
     ]
    }
   ],
   "source": [
    "name = input(\"Enter Student Name :\")\n",
    "roll_no = int(input(\"Enter Student Roll No :\"))\n",
    "cl = int(input(\"Enter Student Class :\"))\n",
    "s1 = int(input(\"Enter Math Subject Marks :\"))\n",
    "s2 = int(input(\"Enter English Subject Marks :\"))\n",
    "s3 = int(input(\"Enter Python Subject Marks :\"))\n",
    "s4 = int(input(\"Enter Java Subject Marks :\"))\n",
    "s5 = int(input(\"Enter Computer Subject Marks :\"))\n",
    "obt=s1+s2+s3+s4+s5\n",
    "total=500\n",
    "per=obt/total*100\n",
    "print(\"**********************************************Marksheet O Student*************************************\")\n",
    "print(\" Student Name :\",name)\n",
    "print(\" Student Roll No :\",roll_no)\n",
    "print(\"Class :\",cl)\n",
    "print(\"Math Marks :\",s1)\n",
    "print(\"English Marks :\",s2)\n",
    "print(\"Python Marks :\",s3)\n",
    "print(\"Java Marks :\",s4)\n",
    "print(\"Computer Marks :\",s5)\n",
    "print(\"Obtained Marks :\",obt)\n",
    "print(\"Total Marks :\",total)\n",
    "print(\"Percentage :\",per)\n",
    "\n",
    "if(per>=80):\n",
    "    print(\"Grade :A+\")\n",
    "elif(per>=70 and per<80):\n",
    "    print(\"Grade :A\")\n",
    "elif(per>=60 and per<70):\n",
    "    print(\"Grade :B\")\n",
    "elif(per>=50 and per<60):\n",
    "    print(\"Grade :C\")\n",
    "elif(per>=40 and per<50):\n",
    "    print(\"Grade :D\")\n",
    "else:\n",
    "    print(\"fail\")\n",
    "\n",
    "\n"
   ]
  },
  {
   "cell_type": "code",
   "execution_count": null,
   "metadata": {},
   "outputs": [],
   "source": []
  }
 ],
 "metadata": {
  "kernelspec": {
   "display_name": "Python 3",
   "language": "python",
   "name": "python3"
  },
  "language_info": {
   "codemirror_mode": {
    "name": "ipython",
    "version": 3
   },
   "file_extension": ".py",
   "mimetype": "text/x-python",
   "name": "python",
   "nbconvert_exporter": "python",
   "pygments_lexer": "ipython3",
   "version": "3.7.4"
  }
 },
 "nbformat": 4,
 "nbformat_minor": 2
}
