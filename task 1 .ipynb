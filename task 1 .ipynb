{
 "cells": [
  {
   "cell_type": "code",
   "execution_count": 5,
   "metadata": {},
   "outputs": [
    {
     "name": "stdout",
     "output_type": "stream",
     "text": [
      "++++++++++++++++++++++++++++++++++++WELCOME TO MY CALCULATOR+++++++++++++++++++++++++++++++++++++++\n",
      "Select Operation  1).Addition(+) 2).Subtraction(-) 3).Multiplication(*) 4).Float Division(/) 5).Integer Division(//) \n",
      "Select Operation Number:1\n",
      "Enter First Number :2\n",
      "Enter Second Number :3\n",
      "********************************\n",
      "You Select Addition operation\n",
      "Your Result Addition of  2 + 3 is : 5\n"
     ]
    }
   ],
   "source": [
    "print(\"++++++++++++++++++++++++++++++++++++WELCOME TO MY CALCULATOR+++++++++++++++++++++++++++++++++++++++\")\n",
    "print(\"Select Operation  1).Addition(+) 2).Subtraction(-) 3).Multiplication(*) 4).Float Division(/) 5).Integer Division(//) \")\n",
    "select=int(input(\"Select Operation Number:\"))\n",
    "if(select>=1 and select <=5 ):\n",
    "    n1=int(input(\"Enter First Number :\"))\n",
    "    n2=int(input(\"Enter Second Number :\"))\n",
    "    if(select==1):\n",
    "        print(\"********************************\")\n",
    "        print(\"You Select Addition operation\")\n",
    "        print(\"Your Result Addition of \",n1,\"+\",n2,\"is :\",(n1+n2))\n",
    "        \n",
    "    elif(select==2):\n",
    "        print(\"********************************\")\n",
    "        print(\"You Select Subtraction operation\")\n",
    "        print(\"Your Result Subtraction of \",n1,\"+\",n2,\"is :\",(n1-n2))\n",
    "        \n",
    "    elif(select==3):\n",
    "        print(\"********************************\")\n",
    "        print(\"You Select Multiplication operation\")\n",
    "        print(\"Your Result Multiplication of \",n1,\"+\",n2,\"is :\",(n1*n2))\n",
    "        \n",
    "    elif(select==4):\n",
    "        print(\"********************************\")\n",
    "        print(\"You Select Float Division operation\")\n",
    "        print(\"Your Result Float Division of \",n1,\"+\",n2,\"is :\",(n1/n2))\n",
    "        \n",
    "    elif(select==5):\n",
    "        print(\"********************************\")\n",
    "        print(\"You Select  Integer Division operation\")\n",
    "        print(\"Your Result Integer Division of \",n1,\"+\",n2,\"is :\",(n1//n2))    \n",
    "    \n",
    "else:\n",
    "        print(\"********************************\")\n",
    "        print(\"You Select Incorrect Operation Plz Try Again\")"
   ]
  },
  {
   "cell_type": "code",
   "execution_count": 8,
   "metadata": {},
   "outputs": [
    {
     "name": "stdout",
     "output_type": "stream",
     "text": [
      "++++++++++++++++++++++++++++++++++++WELCOME TO MY CALCULATOR+++++++++++++++++++++++++++++++++++++++\n",
      "Select Operation  1).Addition(+) 2).Subtraction(-) 3).Multiplication(*) 4).Float Division(/) 5).Integer Division(//) \n",
      "Select Operation Number:2\n",
      "Enter First Number :3\n",
      "Enter Second Number :4\n",
      "********************************\n",
      "You Select Subtraction operation\n",
      "Your Result Subtraction of  3 - 4 is : -1\n"
     ]
    }
   ],
   "source": [
    "print(\"++++++++++++++++++++++++++++++++++++WELCOME TO MY CALCULATOR+++++++++++++++++++++++++++++++++++++++\")\n",
    "print(\"Select Operation  1).Addition(+) 2).Subtraction(-) 3).Multiplication(*) 4).Float Division(/) 5).Integer Division(//) \")\n",
    "select=int(input(\"Select Operation Number:\"))\n",
    "if(select>=1 and select <=5 ):\n",
    "    n1=int(input(\"Enter First Number :\"))\n",
    "    n2=int(input(\"Enter Second Number :\"))\n",
    "    if(select==1):\n",
    "        print(\"********************************\")\n",
    "        print(\"You Select Addition operation\")\n",
    "        print(\"Your Result Addition of \",n1,\"+\",n2,\"is :\",(n1+n2))\n",
    "        \n",
    "    elif(select==2):\n",
    "        print(\"********************************\")\n",
    "        print(\"You Select Subtraction operation\")\n",
    "        print(\"Your Result Subtraction of \",n1,\"-\",n2,\"is :\",(n1-n2))\n",
    "        \n",
    "    elif(select==3):\n",
    "        print(\"********************************\")\n",
    "        print(\"You Select Multiplication operation\")\n",
    "        print(\"Your Result Multiplication of \",n1,\"*\",n2,\"is :\",(n1*n2))\n",
    "        \n",
    "    elif(select==4):\n",
    "        print(\"********************************\")\n",
    "        print(\"You Select Float Division operation\")\n",
    "        print(\"Your Result Float Division of \",n1,\"/\",n2,\"is :\",(n1/n2))\n",
    "        \n",
    "    elif(select==5):\n",
    "        print(\"********************************\")\n",
    "        print(\"You Select  Integer Division operation\")\n",
    "        print(\"Your Result Integer Division of \",n1,\"//\",n2,\"is :\",(n1//n2))    \n",
    "    \n",
    "else:\n",
    "        print(\"********************************\")\n",
    "        print(\"You Select Incorrect Operation Plz Try Again\")"
   ]
  },
  {
   "cell_type": "code",
   "execution_count": 9,
   "metadata": {},
   "outputs": [
    {
     "name": "stdout",
     "output_type": "stream",
     "text": [
      "++++++++++++++++++++++++++++++++++++WELCOME TO MY CALCULATOR+++++++++++++++++++++++++++++++++++++++\n",
      "Select Operation  1).Addition(+) 2).Subtraction(-) 3).Multiplication(*) 4).Float Division(/) 5).Integer Division(//) \n",
      "Select Operation Number:3\n",
      "Enter First Number :4\n",
      "Enter Second Number :6\n",
      "********************************\n",
      "You Select Multiplication operation\n",
      "Your Result Multiplication of  4 * 6 is : 24\n"
     ]
    }
   ],
   "source": [
    "print(\"++++++++++++++++++++++++++++++++++++WELCOME TO MY CALCULATOR+++++++++++++++++++++++++++++++++++++++\")\n",
    "print(\"Select Operation  1).Addition(+) 2).Subtraction(-) 3).Multiplication(*) 4).Float Division(/) 5).Integer Division(//) \")\n",
    "select=int(input(\"Select Operation Number:\"))\n",
    "if(select>=1 and select <=5 ):\n",
    "    n1=int(input(\"Enter First Number :\"))\n",
    "    n2=int(input(\"Enter Second Number :\"))\n",
    "    if(select==1):\n",
    "        print(\"********************************\")\n",
    "        print(\"You Select Addition operation\")\n",
    "        print(\"Your Result Addition of \",n1,\"+\",n2,\"is :\",(n1+n2))\n",
    "        \n",
    "    elif(select==2):\n",
    "        print(\"********************************\")\n",
    "        print(\"You Select Subtraction operation\")\n",
    "        print(\"Your Result Subtraction of \",n1,\"-\",n2,\"is :\",(n1-n2))\n",
    "        \n",
    "    elif(select==3):\n",
    "        print(\"********************************\")\n",
    "        print(\"You Select Multiplication operation\")\n",
    "        print(\"Your Result Multiplication of \",n1,\"*\",n2,\"is :\",(n1*n2))\n",
    "        \n",
    "    elif(select==4):\n",
    "        print(\"********************************\")\n",
    "        print(\"You Select Float Division operation\")\n",
    "        print(\"Your Result Float Division of \",n1,\"/\",n2,\"is :\",(n1/n2))\n",
    "        \n",
    "    elif(select==5):\n",
    "        print(\"********************************\")\n",
    "        print(\"You Select  Integer Division operation\")\n",
    "        print(\"Your Result Integer Division of \",n1,\"//\",n2,\"is :\",(n1//n2))    \n",
    "    \n",
    "else:\n",
    "        print(\"********************************\")\n",
    "        print(\"You Select Incorrect Operation Plz Try Again\")"
   ]
  },
  {
   "cell_type": "code",
   "execution_count": 10,
   "metadata": {},
   "outputs": [
    {
     "name": "stdout",
     "output_type": "stream",
     "text": [
      "++++++++++++++++++++++++++++++++++++WELCOME TO MY CALCULATOR+++++++++++++++++++++++++++++++++++++++\n",
      "Select Operation  1).Addition(+) 2).Subtraction(-) 3).Multiplication(*) 4).Float Division(/) 5).Integer Division(//) \n",
      "Select Operation Number:5\n",
      "Enter First Number :10\n",
      "Enter Second Number :2\n",
      "********************************\n",
      "You Select  Integer Division operation\n",
      "Your Result Integer Division of  10 // 2 is : 5\n"
     ]
    }
   ],
   "source": [
    "print(\"++++++++++++++++++++++++++++++++++++WELCOME TO MY CALCULATOR+++++++++++++++++++++++++++++++++++++++\")\n",
    "print(\"Select Operation  1).Addition(+) 2).Subtraction(-) 3).Multiplication(*) 4).Float Division(/) 5).Integer Division(//) \")\n",
    "select=int(input(\"Select Operation Number:\"))\n",
    "if(select>=1 and select <=5 ):\n",
    "    n1=int(input(\"Enter First Number :\"))\n",
    "    n2=int(input(\"Enter Second Number :\"))\n",
    "    if(select==1):\n",
    "        print(\"********************************\")\n",
    "        print(\"You Select Addition operation\")\n",
    "        print(\"Your Result Addition of \",n1,\"+\",n2,\"is :\",(n1+n2))\n",
    "        \n",
    "    elif(select==2):\n",
    "        print(\"********************************\")\n",
    "        print(\"You Select Subtraction operation\")\n",
    "        print(\"Your Result Subtraction of \",n1,\"-\",n2,\"is :\",(n1-n2))\n",
    "        \n",
    "    elif(select==3):\n",
    "        print(\"********************************\")\n",
    "        print(\"You Select Multiplication operation\")\n",
    "        print(\"Your Result Multiplication of \",n1,\"*\",n2,\"is :\",(n1*n2))\n",
    "        \n",
    "    elif(select==4):\n",
    "        print(\"********************************\")\n",
    "        print(\"You Select Float Division operation\")\n",
    "        print(\"Your Result Float Division of \",n1,\"/\",n2,\"is :\",(n1/n2))\n",
    "        \n",
    "    elif(select==5):\n",
    "        print(\"********************************\")\n",
    "        print(\"You Select  Integer Division operation\")\n",
    "        print(\"Your Result Integer Division of \",n1,\"//\",n2,\"is :\",(n1//n2))    \n",
    "    \n",
    "else:\n",
    "        print(\"********************************\")\n",
    "        print(\"You Select Incorrect Operation Plz Try Again\")"
   ]
  },
  {
   "cell_type": "code",
   "execution_count": 11,
   "metadata": {},
   "outputs": [
    {
     "name": "stdout",
     "output_type": "stream",
     "text": [
      "++++++++++++++++++++++++++++++++++++WELCOME TO MY CALCULATOR+++++++++++++++++++++++++++++++++++++++\n",
      "Select Operation  1).Addition(+) 2).Subtraction(-) 3).Multiplication(*) 4).Float Division(/) 5).Integer Division(//) \n",
      "Select Operation Number:4\n",
      "Enter First Number :10\n",
      "Enter Second Number :2\n",
      "********************************\n",
      "You Select Float Division operation\n",
      "Your Result Float Division of  10 / 2 is : 5.0\n"
     ]
    }
   ],
   "source": [
    "print(\"++++++++++++++++++++++++++++++++++++WELCOME TO MY CALCULATOR+++++++++++++++++++++++++++++++++++++++\")\n",
    "print(\"Select Operation  1).Addition(+) 2).Subtraction(-) 3).Multiplication(*) 4).Float Division(/) 5).Integer Division(//) \")\n",
    "select=int(input(\"Select Operation Number:\"))\n",
    "if(select>=1 and select <=5 ):\n",
    "    n1=int(input(\"Enter First Number :\"))\n",
    "    n2=int(input(\"Enter Second Number :\"))\n",
    "    if(select==1):\n",
    "        print(\"********************************\")\n",
    "        print(\"You Select Addition operation\")\n",
    "        print(\"Your Result Addition of \",n1,\"+\",n2,\"is :\",(n1+n2))\n",
    "        \n",
    "    elif(select==2):\n",
    "        print(\"********************************\")\n",
    "        print(\"You Select Subtraction operation\")\n",
    "        print(\"Your Result Subtraction of \",n1,\"-\",n2,\"is :\",(n1-n2))\n",
    "        \n",
    "    elif(select==3):\n",
    "        print(\"********************************\")\n",
    "        print(\"You Select Multiplication operation\")\n",
    "        print(\"Your Result Multiplication of \",n1,\"*\",n2,\"is :\",(n1*n2))\n",
    "        \n",
    "    elif(select==4):\n",
    "        print(\"********************************\")\n",
    "        print(\"You Select Float Division operation\")\n",
    "        print(\"Your Result Float Division of \",n1,\"/\",n2,\"is :\",(n1/n2))\n",
    "        \n",
    "    elif(select==5):\n",
    "        print(\"********************************\")\n",
    "        print(\"You Select  Integer Division operation\")\n",
    "        print(\"Your Result Integer Division of \",n1,\"//\",n2,\"is :\",(n1//n2))    \n",
    "    \n",
    "else:\n",
    "        print(\"********************************\")\n",
    "        print(\"You Select Incorrect Operation Plz Try Again\")"
   ]
  },
  {
   "cell_type": "code",
   "execution_count": null,
   "metadata": {},
   "outputs": [],
   "source": []
  }
 ],
 "metadata": {
  "kernelspec": {
   "display_name": "Python 3",
   "language": "python",
   "name": "python3"
  },
  "language_info": {
   "codemirror_mode": {
    "name": "ipython",
    "version": 3
   },
   "file_extension": ".py",
   "mimetype": "text/x-python",
   "name": "python",
   "nbconvert_exporter": "python",
   "pygments_lexer": "ipython3",
   "version": "3.7.4"
  }
 },
 "nbformat": 4,
 "nbformat_minor": 2
}
